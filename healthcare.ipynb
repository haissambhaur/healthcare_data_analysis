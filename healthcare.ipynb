{
 "cells": [
  {
   "cell_type": "code",
   "execution_count": 35,
   "id": "a64afed5",
   "metadata": {},
   "outputs": [
    {
     "name": "stderr",
     "output_type": "stream",
     "text": [
      "<>:3: SyntaxWarning: invalid escape sequence '\\H'\n",
      "<>:3: SyntaxWarning: invalid escape sequence '\\H'\n",
      "C:\\Users\\sambh\\AppData\\Local\\Temp\\ipykernel_14600\\1840057947.py:3: SyntaxWarning: invalid escape sequence '\\H'\n",
      "  health_data = pd.read_csv(\"Health Dataset Python\\Health Dataset Python\\Health_dataset.csv\")\n"
     ]
    }
   ],
   "source": [
    "import pandas as pd\n",
    "\n",
    "health_data = pd.read_csv(\"Health Dataset Python\\Health Dataset Python\\Health_dataset.csv\")\n"
   ]
  },
  {
   "cell_type": "code",
   "execution_count": 36,
   "id": "3180f43b",
   "metadata": {},
   "outputs": [
    {
     "data": {
      "text/html": [
       "<div>\n",
       "<style scoped>\n",
       "    .dataframe tbody tr th:only-of-type {\n",
       "        vertical-align: middle;\n",
       "    }\n",
       "\n",
       "    .dataframe tbody tr th {\n",
       "        vertical-align: top;\n",
       "    }\n",
       "\n",
       "    .dataframe thead th {\n",
       "        text-align: right;\n",
       "    }\n",
       "</style>\n",
       "<table border=\"1\" class=\"dataframe\">\n",
       "  <thead>\n",
       "    <tr style=\"text-align: right;\">\n",
       "      <th></th>\n",
       "      <th>Patient ID</th>\n",
       "      <th>Gender</th>\n",
       "      <th>Disease</th>\n",
       "      <th>Treatment</th>\n",
       "      <th>Hospital</th>\n",
       "      <th>Admission Date</th>\n",
       "      <th>Discharge Date</th>\n",
       "      <th>Treatment Status</th>\n",
       "      <th>Cause of Death</th>\n",
       "      <th>Date of Birth</th>\n",
       "    </tr>\n",
       "  </thead>\n",
       "  <tbody>\n",
       "    <tr>\n",
       "      <th>0</th>\n",
       "      <td>PAT-00001</td>\n",
       "      <td>Male</td>\n",
       "      <td>Tuberculosis</td>\n",
       "      <td>Dialysis</td>\n",
       "      <td>City General Hospital</td>\n",
       "      <td>2022-12-19</td>\n",
       "      <td>2023-01-16</td>\n",
       "      <td>Recovered</td>\n",
       "      <td>NaN</td>\n",
       "      <td>1973-06-05</td>\n",
       "    </tr>\n",
       "    <tr>\n",
       "      <th>1</th>\n",
       "      <td>PAT-00002</td>\n",
       "      <td>Female</td>\n",
       "      <td>Malaria</td>\n",
       "      <td>Dialysis</td>\n",
       "      <td>City General Hospital</td>\n",
       "      <td>2023-03-29</td>\n",
       "      <td>2023-04-21</td>\n",
       "      <td>Recovered</td>\n",
       "      <td>NaN</td>\n",
       "      <td>1998-11-21</td>\n",
       "    </tr>\n",
       "    <tr>\n",
       "      <th>2</th>\n",
       "      <td>PAT-00003</td>\n",
       "      <td>Female</td>\n",
       "      <td>Malaria</td>\n",
       "      <td>Surgery</td>\n",
       "      <td>City General Hospital</td>\n",
       "      <td>2022-09-16</td>\n",
       "      <td>2022-10-15</td>\n",
       "      <td>Recovered</td>\n",
       "      <td>NaN</td>\n",
       "      <td>1942-02-14</td>\n",
       "    </tr>\n",
       "    <tr>\n",
       "      <th>3</th>\n",
       "      <td>PAT-00004</td>\n",
       "      <td>Male</td>\n",
       "      <td>Asthma</td>\n",
       "      <td>Dialysis</td>\n",
       "      <td>City General Hospital</td>\n",
       "      <td>2022-02-07</td>\n",
       "      <td>2022-02-11</td>\n",
       "      <td>Recovered</td>\n",
       "      <td>NaN</td>\n",
       "      <td>1943-01-17</td>\n",
       "    </tr>\n",
       "    <tr>\n",
       "      <th>4</th>\n",
       "      <td>PAT-00005</td>\n",
       "      <td>Female</td>\n",
       "      <td>Diabetes</td>\n",
       "      <td>Physical Therapy</td>\n",
       "      <td>City General Hospital</td>\n",
       "      <td>2022-10-25</td>\n",
       "      <td>2022-10-30</td>\n",
       "      <td>Recovered</td>\n",
       "      <td>NaN</td>\n",
       "      <td>1979-07-28</td>\n",
       "    </tr>\n",
       "    <tr>\n",
       "      <th>5</th>\n",
       "      <td>PAT-00006</td>\n",
       "      <td>Male</td>\n",
       "      <td>Heart Disease</td>\n",
       "      <td>Dialysis</td>\n",
       "      <td>City General Hospital</td>\n",
       "      <td>2022-02-07</td>\n",
       "      <td>2022-02-15</td>\n",
       "      <td>Deceased</td>\n",
       "      <td>Multiple Organ Failure</td>\n",
       "      <td>1962-04-06</td>\n",
       "    </tr>\n",
       "    <tr>\n",
       "      <th>6</th>\n",
       "      <td>PAT-00007</td>\n",
       "      <td>Female</td>\n",
       "      <td>Tuberculosis</td>\n",
       "      <td>Dialysis</td>\n",
       "      <td>City General Hospital</td>\n",
       "      <td>2022-06-07</td>\n",
       "      <td>2022-06-30</td>\n",
       "      <td>Recovered</td>\n",
       "      <td>NaN</td>\n",
       "      <td>1967-10-06</td>\n",
       "    </tr>\n",
       "    <tr>\n",
       "      <th>7</th>\n",
       "      <td>PAT-00008</td>\n",
       "      <td>Female</td>\n",
       "      <td>Heart Disease</td>\n",
       "      <td>Dialysis</td>\n",
       "      <td>City General Hospital</td>\n",
       "      <td>2022-06-26</td>\n",
       "      <td>2022-06-27</td>\n",
       "      <td>Recovered</td>\n",
       "      <td>NaN</td>\n",
       "      <td>2018-12-15</td>\n",
       "    </tr>\n",
       "    <tr>\n",
       "      <th>8</th>\n",
       "      <td>PAT-00009</td>\n",
       "      <td>Female</td>\n",
       "      <td>Cancer</td>\n",
       "      <td>Dialysis</td>\n",
       "      <td>City General Hospital</td>\n",
       "      <td>2023-07-21</td>\n",
       "      <td>2023-08-07</td>\n",
       "      <td>Recovered</td>\n",
       "      <td>NaN</td>\n",
       "      <td>1976-02-01</td>\n",
       "    </tr>\n",
       "    <tr>\n",
       "      <th>9</th>\n",
       "      <td>PAT-00010</td>\n",
       "      <td>Female</td>\n",
       "      <td>Malaria</td>\n",
       "      <td>Dialysis</td>\n",
       "      <td>City General Hospital</td>\n",
       "      <td>2023-12-25</td>\n",
       "      <td>2024-01-05</td>\n",
       "      <td>Recovered</td>\n",
       "      <td>NaN</td>\n",
       "      <td>2009-01-27</td>\n",
       "    </tr>\n",
       "  </tbody>\n",
       "</table>\n",
       "</div>"
      ],
      "text/plain": [
       "  Patient ID  Gender        Disease         Treatment               Hospital  \\\n",
       "0  PAT-00001    Male   Tuberculosis          Dialysis  City General Hospital   \n",
       "1  PAT-00002  Female        Malaria          Dialysis  City General Hospital   \n",
       "2  PAT-00003  Female        Malaria           Surgery  City General Hospital   \n",
       "3  PAT-00004    Male         Asthma          Dialysis  City General Hospital   \n",
       "4  PAT-00005  Female       Diabetes  Physical Therapy  City General Hospital   \n",
       "5  PAT-00006    Male  Heart Disease          Dialysis  City General Hospital   \n",
       "6  PAT-00007  Female   Tuberculosis          Dialysis  City General Hospital   \n",
       "7  PAT-00008  Female  Heart Disease          Dialysis  City General Hospital   \n",
       "8  PAT-00009  Female         Cancer          Dialysis  City General Hospital   \n",
       "9  PAT-00010  Female        Malaria          Dialysis  City General Hospital   \n",
       "\n",
       "  Admission Date Discharge Date Treatment Status          Cause of Death  \\\n",
       "0     2022-12-19     2023-01-16        Recovered                     NaN   \n",
       "1     2023-03-29     2023-04-21        Recovered                     NaN   \n",
       "2     2022-09-16     2022-10-15        Recovered                     NaN   \n",
       "3     2022-02-07     2022-02-11        Recovered                     NaN   \n",
       "4     2022-10-25     2022-10-30        Recovered                     NaN   \n",
       "5     2022-02-07     2022-02-15         Deceased  Multiple Organ Failure   \n",
       "6     2022-06-07     2022-06-30        Recovered                     NaN   \n",
       "7     2022-06-26     2022-06-27        Recovered                     NaN   \n",
       "8     2023-07-21     2023-08-07        Recovered                     NaN   \n",
       "9     2023-12-25     2024-01-05        Recovered                     NaN   \n",
       "\n",
       "  Date of Birth  \n",
       "0    1973-06-05  \n",
       "1    1998-11-21  \n",
       "2    1942-02-14  \n",
       "3    1943-01-17  \n",
       "4    1979-07-28  \n",
       "5    1962-04-06  \n",
       "6    1967-10-06  \n",
       "7    2018-12-15  \n",
       "8    1976-02-01  \n",
       "9    2009-01-27  "
      ]
     },
     "execution_count": 36,
     "metadata": {},
     "output_type": "execute_result"
    }
   ],
   "source": [
    "health_data.head(10)"
   ]
  },
  {
   "cell_type": "code",
   "execution_count": 37,
   "id": "a12b73c6",
   "metadata": {},
   "outputs": [
    {
     "name": "stdout",
     "output_type": "stream",
     "text": [
      "Total patients: 8000\n"
     ]
    }
   ],
   "source": [
    "#count the number of patients\n",
    "total_records = health_data['Patient ID'].count()\n",
    "print('Total patients:',total_records)"
   ]
  },
  {
   "cell_type": "code",
   "execution_count": 38,
   "id": "176ddd28",
   "metadata": {},
   "outputs": [
    {
     "name": "stdout",
     "output_type": "stream",
     "text": [
      "Gender\n",
      "Male      5206\n",
      "Female    2794\n",
      "Name: count, dtype: int64\n"
     ]
    }
   ],
   "source": [
    "gender_count = health_data['Gender'].value_counts()\n",
    "print(gender_count)"
   ]
  },
  {
   "cell_type": "code",
   "execution_count": 39,
   "id": "63f51e78",
   "metadata": {},
   "outputs": [],
   "source": [
    "import matplotlib.pyplot as plt"
   ]
  },
  {
   "cell_type": "code",
   "execution_count": 40,
   "id": "4e545bae",
   "metadata": {},
   "outputs": [
    {
     "data": {
      "text/plain": [
       "<Axes: xlabel='Gender'>"
      ]
     },
     "execution_count": 40,
     "metadata": {},
     "output_type": "execute_result"
    },
    {
     "data": {
      "image/png": "[encoded data removed]",
      "text/plain": [
       "<Figure size 640x480 with 1 Axes>"
      ]
     },
     "metadata": {},
     "output_type": "display_data"
    }
   ],
   "source": [
    "gender_count.plot(kind='bar', color=['skyblue', 'lightgreen'])"
   ]
  },
  {
   "cell_type": "code",
   "execution_count": 41,
   "id": "2b3efeee",
   "metadata": {},
   "outputs": [
    {
     "name": "stdout",
     "output_type": "stream",
     "text": [
      "Age_Group\n",
      "20-40     1646\n",
      "40-60     1608\n",
      "80-100    1603\n",
      "60-80     1580\n",
      "0-20      1533\n",
      "Name: count, dtype: int64\n"
     ]
    }
   ],
   "source": [
    "# patients age group by total visit\n",
    "health_data['Admission Date'] = pd.to_datetime(health_data['Admission Date']) \n",
    "health_data['Date of Birth'] = pd.to_datetime(health_data['Date of Birth'])\n",
    "\n",
    "health_data['Age'] = (health_data['Admission Date'] - health_data['Date of Birth']).dt.days / 365.25\n",
    "\n",
    "# bins to sort out each individual by their age\n",
    "bins = [0,20,40,60,80,100]\n",
    "labels = [\"0-20\", \"20-40\", \"40-60\", \"60-80\", \"80-100\"]\n",
    "\n",
    "# using pd.cut to perform binning\n",
    "health_data[\"Age_Group\"] = pd.cut(health_data['Age'], bins=bins, labels=labels, right=False)\n",
    "age_count = health_data['Age_Group'].value_counts()\n",
    "print(age_count)"
   ]
  },
  {
   "cell_type": "code",
   "execution_count": 42,
   "id": "5b3f15da",
   "metadata": {},
   "outputs": [
    {
     "name": "stdout",
     "output_type": "stream",
     "text": [
      "Disease\n",
      "Malaria           1193\n",
      "Asthma             966\n",
      "Tuberculosis       864\n",
      "Diabetes           694\n",
      "Cancer             691\n",
      "Typhoid            680\n",
      "Heart Disease      567\n",
      "Stroke             493\n",
      "HIV/AIDS           488\n",
      "Kidney Failure     475\n",
      "Pneumonia          246\n",
      "Liver Disease      244\n",
      "Hypertension       173\n",
      "COVID-19           157\n",
      "Dengue              69\n",
      "Name: count, dtype: int64\n"
     ]
    }
   ],
   "source": [
    "#disease count\n",
    "disease_count = health_data['Disease'].value_counts()\n",
    "print(disease_count)"
   ]
  },
  {
   "cell_type": "code",
   "execution_count": 43,
   "id": "091c5eb7",
   "metadata": {},
   "outputs": [
    {
     "data": {
      "image/png": "[encoded data removed]",
      "text/plain": [
       "<Figure size 640x480 with 1 Axes>"
      ]
     },
     "metadata": {},
     "output_type": "display_data"
    }
   ],
   "source": [
    "ax = disease_count.plot(kind='bar', color='blue')"
   ]
  },
  {
   "cell_type": "code",
   "execution_count": 44,
   "id": "8a326bb0",
   "metadata": {},
   "outputs": [
    {
     "data": {
      "image/png": "[encoded data removed]",
      "text/plain": [
       "<Figure size 640x480 with 1 Axes>"
      ]
     },
     "metadata": {},
     "output_type": "display_data"
    }
   ],
   "source": [
    "# getting the top 3 common diseases\n",
    "disease_top3 = health_data['Disease'].value_counts().nlargest(3)\n",
    "ab = disease_top3.plot(kind='bar', color='pink')"
   ]
  },
  {
   "cell_type": "code",
   "execution_count": 45,
   "id": "41ff7339",
   "metadata": {},
   "outputs": [
    {
     "name": "stdout",
     "output_type": "stream",
     "text": [
      "Disease\n",
      "Malaria         15\n",
      "Asthma          12\n",
      "Tuberculosis    11\n",
      "Name: count, dtype: int32\n"
     ]
    }
   ],
   "source": [
    "#showing the top 3 as percentages\n",
    "total_disease_records = health_data['Disease'].count()\n",
    "total_records_top3 = disease_top3\n",
    "\n",
    "percentage = (total_records_top3/total_disease_records) * 100\n",
    "\n",
    "roundedPerc = percentage.round(0).astype(int)\n",
    "\n",
    "\n",
    "print(roundedPerc)"
   ]
  },
  {
   "cell_type": "code",
   "execution_count": 46,
   "id": "f190a335",
   "metadata": {},
   "outputs": [
    {
     "name": "stdout",
     "output_type": "stream",
     "text": [
      "Gender          Female  Male\n",
      "Disease                     \n",
      "Asthma             320   646\n",
      "COVID-19            53   104\n",
      "Cancer             239   452\n",
      "Dengue              27    42\n",
      "Diabetes           256   438\n",
      "HIV/AIDS           155   333\n",
      "Heart Disease      206   361\n",
      "Hypertension        65   108\n",
      "Kidney Failure     182   293\n",
      "Liver Disease       73   171\n",
      "Malaria            407   786\n",
      "Pneumonia           93   153\n",
      "Stroke             177   316\n",
      "Tuberculosis       302   562\n",
      "Typhoid            239   441\n"
     ]
    }
   ],
   "source": [
    "#diseases accordingly to gender using crosstab\n",
    "\n",
    "gender_disease = pd.crosstab(health_data['Disease'], health_data['Gender'])\n",
    "\n",
    "print(gender_disease)"
   ]
  },
  {
   "cell_type": "code",
   "execution_count": null,
   "id": "f0670ea4",
   "metadata": {},
   "outputs": [],
   "source": []
  }
 ],
 "metadata": {
  "kernelspec": {
   "display_name": "base",
   "language": "python",
   "name": "python3"
  },
  "language_info": {
   "codemirror_mode": {
    "name": "ipython",
    "version": 3
   },
   "file_extension": ".py",
   "mimetype": "text/x-python",
   "name": "python",
   "nbconvert_exporter": "python",
   "pygments_lexer": "ipython3",
   "version": "3.12.4"
  }
 },
 "nbformat": 4,
 "nbformat_minor": 5
}
